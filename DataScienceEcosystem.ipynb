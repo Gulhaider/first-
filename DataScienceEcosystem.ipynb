{
  "metadata": {
    "kernelspec": {
      "name": "python",
      "display_name": "Python (Pyodide)",
      "language": "python"
    },
    "language_info": {
      "codemirror_mode": {
        "name": "python",
        "version": 3
      },
      "file_extension": ".py",
      "mimetype": "text/x-python",
      "name": "python",
      "nbconvert_exporter": "python",
      "pygments_lexer": "ipython3",
      "version": "3.8"
    }
  },
  "nbformat_minor": 5,
  "nbformat": 4,
  "cells": [
    {
      "id": "9e7c2d1d-3000-4107-b4a7-3bbaffc6e8bf",
      "cell_type": "markdown",
      "source": "<h1>Data science tools and ecosystem</h1>",
      "metadata": {}
    },
    {
      "id": "c601069b-eebe-4213-af56-12c35c58fc32",
      "cell_type": "markdown",
      "source": "In this notebook, Data Science Tools and Ecosystem are summarized.",
      "metadata": {}
    },
    {
      "id": "8d02777b-4382-4765-80db-197c1d20ff6a",
      "cell_type": "markdown",
      "source": "Some of the popular languages that Data Scientists use are:\n",
      "metadata": {}
    },
    {
      "id": "7aebcf20-c607-444a-a562-a6c97f4837a6",
      "cell_type": "markdown",
      "source": "*Objectives:*\n+ Python\n+ R\n+ Julia\n+ Scala\n+ SQL",
      "metadata": {}
    },
    {
      "id": "8e2a1982-9f2c-4989-831f-606861606820",
      "cell_type": "markdown",
      "source": "ordered list\n1. Python\n2. R\n3. Julia\n\n",
      "metadata": {}
    },
    {
      "id": "8a02dc02-412c-46ef-8a8b-c3c367c184f1",
      "cell_type": "markdown",
      "source": "Some of the commonly used libraries used by Data Scientists include:",
      "metadata": {}
    },
    {
      "id": "12055b0d-0524-4372-872c-c777a73dd8b2",
      "cell_type": "markdown",
      "source": "ordered list\n1. Numpy\n2. Pandas\n3. Sci-learn",
      "metadata": {}
    },
    {
      "id": "f85b5e6f-e6cc-495a-9960-bf4b9684ed0f",
      "cell_type": "markdown",
      "source": "| Data Science Tools      |\n|------------------------|\n| Jupyter Notebook       |\n| RStudio                |\n| Apache Zeppelin        |\n",
      "metadata": {}
    },
    {
      "id": "15a47ff6-f2d3-44db-b644-4104a2bf8d8e",
      "cell_type": "markdown",
      "source": "<h3>Below are a few examples of evaluating arithmetic expressions in Python</h3>",
      "metadata": {}
    },
    {
      "id": "f90d8fc5-880a-4e4a-9082-38ac0ad392d4",
      "cell_type": "code",
      "source": "(3*4)+5 #this a simple arithmetic expression to mutiply then add integers.",
      "metadata": {
        "trusted": true
      },
      "outputs": [
        {
          "execution_count": 1,
          "output_type": "execute_result",
          "data": {
            "text/plain": "17"
          },
          "metadata": {}
        }
      ],
      "execution_count": 1
    },
    {
      "id": "48b40f5b-5699-4db5-8c8d-7bbe2fbaffa5",
      "cell_type": "code",
      "source": "x=200/60\nprint(x,\"hours\")#This will convert 200 minutes to hours by diving by 60.",
      "metadata": {
        "trusted": true
      },
      "outputs": [
        {
          "name": "stdout",
          "output_type": "stream",
          "text": "3.3333333333333335 hours\n"
        }
      ],
      "execution_count": 3
    },
    {
      "id": "258f2554-779c-4a35-aa38-f3caaa5ea4fd",
      "cell_type": "markdown",
      "source": "<h2> Author</h2>\nGul Haider",
      "metadata": {}
    },
    {
      "id": "18fd076d-a2ac-4ca1-8945-d5dddf17c8fe",
      "cell_type": "code",
      "source": "",
      "metadata": {
        "trusted": true
      },
      "outputs": [],
      "execution_count": null
    }
  ]
}